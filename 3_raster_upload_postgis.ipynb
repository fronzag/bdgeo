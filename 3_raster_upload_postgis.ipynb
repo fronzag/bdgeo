{
 "cells": [
  {
   "cell_type": "code",
   "execution_count": null,
   "id": "92583601-b2d9-4a62-a4c4-d6c72103ab9a",
   "metadata": {},
   "outputs": [],
   "source": [
    "import subprocess\n",
    "\n",
    "# Defina o caminho para o executável raster2pgsql.exe\n",
    "raster2pgsql_path = r\"X:\\pg\\bin\\raster2pgsql.exe\"\n",
    "\n",
    "# Defina os parâmetros do comando\n",
    "command_params = [\n",
    "    raster2pgsql_path,\n",
    "    \"-I\", \"-C\", \"-e\", \"-Y\", \"-F\", \"-s\", \"4326\", \"-t\", \"128x128\",\n",
    "    \"X:\\work\\mapbiomas_sc_2022.tif\", \"mapbiomas.mapbiomas_sc_2022_t\"\n",
    "]\n",
    "\n",
    "# Defina os parâmetros do psql\n",
    "psql_params = [\n",
    "    \"psql\",\n",
    "    \"-U\", \"x\",\n",
    "    \"-d\", \"x\",\n",
    "    \"-h\", \"x\",\n",
    "    \"-p\", \"x\",\n",
    "    \"-W\", \n",
    "]\n",
    "\n",
    "# Execute o comando raster2pgsql\n",
    "raster2pgsql_process = subprocess.Popen(command_params, stdout=subprocess.PIPE)\n",
    "\n",
    "# Execute o comando psql e configure stdin para permitir a entrada da senha\n",
    "psql_process = subprocess.Popen(psql_params, stdin=subprocess.PIPE, stdout=subprocess.PIPE, stderr=subprocess.PIPE)\n",
    "\n",
    "# Redirecione a saída do comando raster2pgsql para o stdin do psql\n",
    "stdout, stderr = psql_process.communicate(raster2pgsql_process.stdout.read())\n",
    "\n",
    "# Verifique se houve algum erro\n",
    "if psql_process.returncode != 0:\n",
    "    print(\"Ocorreu um erro durante a execução do comando:\", stderr.decode())\n",
    "else:\n",
    "    print(\"Comando executado com sucesso.\")"
   ]
  },
  {
   "cell_type": "code",
   "execution_count": null,
   "id": "65f39fe4-8617-490e-94db-63275b534f05",
   "metadata": {},
   "outputs": [],
   "source": [
    "#raster2pgsql.exe -I -C -e -Y -F -s 26986 -t 128x128 -l 2,4 X:\\work\\brasil_coverage_2022.tif mapbiomas_br_2022 | psql -U postgres -d postgres -h db-postgre-natu-1.c7gucim42th0.sa-east-1.rds.amazonaws.com -p 5432\n",
    "\n",
    "#raster2pgsql.exe -I -C -e -Y -F -s 4326 -t 128x128 X:\\work\\mapbiomas_sc_2022.tif mapbiomas.mapbiomas_sc_2022_t | psql -U postgres -d postgres -h db-postgre-natu-1.c7gucim42th0.sa-east-1.rds.amazonaws.com -p 5432\n",
    "\n",
    "#raster2pgsql.exe -I -C -e -Y -F -s 4326 -t 128x128 X:\\work\\brasil_coverage_2022.tif mapbiomas.mapbiomas_br_2022 | psql -U postgres -d postgres -h db-postgre-natu-1.c7gucim42th0.sa-east-1.rds.amazonaws.com -p 5432"
   ]
  }
 ],
 "metadata": {
  "kernelspec": {
   "display_name": "Geopandas",
   "language": "python",
   "name": "geopandas"
  },
  "language_info": {
   "codemirror_mode": {
    "name": "ipython",
    "version": 3
   },
   "file_extension": ".py",
   "mimetype": "text/x-python",
   "name": "python",
   "nbconvert_exporter": "python",
   "pygments_lexer": "ipython3",
   "version": "3.11.6"
  }
 },
 "nbformat": 4,
 "nbformat_minor": 5
}
