{
 "cells": [
  {
   "cell_type": "code",
   "execution_count": null,
   "id": "af91bdd2-2024-4efb-a7ed-76e3e5218ff4",
   "metadata": {},
   "outputs": [],
   "source": [
    "from sqlalchemy import create_engine, MetaData\n",
    "import geopandas as gpd\n",
    "\n",
    "## Connect to the Database \n",
    "conf ={\n",
    "  'host':\"x\",\n",
    "  'port':'x',\n",
    "  'database':\"x\",\n",
    "  'user':\"x\",\n",
    "  'password':\"x\"\n",
    "}\n",
    "\n",
    "# Run engine\n",
    "engine = create_engine(\"postgresql://{user}:{password}@{host}:{port}/{database}\".format(**conf))\n",
    "\n",
    "# Reflect the database tables\n",
    "metadata = MetaData()\n",
    "metadata.reflect(bind=engine)\n",
    "\n",
    "# Print the table names\n",
    "print(\"Existing tables:\")\n",
    "for table in metadata.tables.values():\n",
    "  print(table.name)"
   ]
  },
  {
   "cell_type": "code",
   "execution_count": null,
   "id": "7b039899-b5f2-425c-96bd-a19e37d43c43",
   "metadata": {},
   "outputs": [],
   "source": [
    "sql = \"SELECT * FROM x\"\n",
    "area = gpd.read_postgis(sql, engine, geom_col='geometry')  "
   ]
  },
  {
   "cell_type": "code",
   "execution_count": null,
   "id": "46683dcb-f85a-4f69-b0c8-88aa762b55d1",
   "metadata": {},
   "outputs": [],
   "source": [
    "query = f\"SELECT * FROM br_municipios_2022 WHERE ST_Intersects(geometry, ST_SetSRID('{area.geometry.iloc[0]}'::geometry, 4326));\"\n",
    "gdf = gpd.read_postgis(query, engine, geom_col='geometry')"
   ]
  },
  {
   "cell_type": "code",
   "execution_count": null,
   "id": "144a648a-be3e-4aa6-a373-b796b23f66bd",
   "metadata": {},
   "outputs": [],
   "source": [
    "query = f\"SELECT * FROM biomas_br WHERE ST_Intersects(geometry, ST_SetSRID('{area.geometry.iloc[0]}'::geometry, 4326));\"\n",
    "biomas = gpd.read_postgis(query, engine, geom_col='geometry')"
   ]
  },
  {
   "cell_type": "code",
   "execution_count": null,
   "id": "ad57fc76-726c-413c-9068-e59848f033d1",
   "metadata": {},
   "outputs": [],
   "source": [
    "query = f\"SELECT * FROM assentamentos_br WHERE ST_Intersects(geometry, ST_SetSRID('{area.geometry.iloc[0]}'::geometry, 4326));\"\n",
    "assentamentos_br = gpd.read_postgis(query, engine, geom_col='geometry')"
   ]
  },
  {
   "cell_type": "code",
   "execution_count": null,
   "id": "51d95158-aa1a-4b75-8da2-dfbdff003c59",
   "metadata": {},
   "outputs": [],
   "source": [
    "query = f\"SELECT * FROM quilombos_br WHERE ST_Intersects(geometry, ST_SetSRID('{area.geometry.iloc[0]}'::geometry, 4326));\"\n",
    "quilombos_br = gpd.read_postgis(query, engine, geom_col='geometry')"
   ]
  },
  {
   "cell_type": "code",
   "execution_count": null,
   "id": "ba699621-3730-430c-96bf-00fef68f202f",
   "metadata": {},
   "outputs": [],
   "source": [
    "query = f\"SELECT * FROM car_4326 WHERE ST_Intersects(geometry, ST_SetSRID('{area.geometry.iloc[0]}'::geometry, 4326));\"\n",
    "car = gpd.read_postgis(query, engine, geom_col='geometry')"
   ]
  }
 ],
 "metadata": {
  "kernelspec": {
   "display_name": "Geopandas",
   "language": "python",
   "name": "geopandas"
  },
  "language_info": {
   "codemirror_mode": {
    "name": "ipython",
    "version": 3
   },
   "file_extension": ".py",
   "mimetype": "text/x-python",
   "name": "python",
   "nbconvert_exporter": "python",
   "pygments_lexer": "ipython3",
   "version": "3.11.6"
  }
 },
 "nbformat": 4,
 "nbformat_minor": 5
}
