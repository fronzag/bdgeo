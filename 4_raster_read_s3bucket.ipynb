{
 "cells": [
  {
   "cell_type": "code",
   "execution_count": null,
   "id": "d6b8dc3e-f52f-458e-858f-f971cb5fe43e",
   "metadata": {},
   "outputs": [],
   "source": [
    "import boto3\n",
    "import rasterio\n",
    "from rasterio.io import MemoryFile\n",
    "import matplotlib.pyplot as plt\n",
    "\n",
    "\n",
    "#Connect to S3 \n",
    "s3 = boto3.resource(\n",
    "    service_name='s3',\n",
    "    region_name='sa-east-1',\n",
    "    aws_access_key_id='xxxxxxx',\n",
    "    aws_secret_access_key='xxxxxx'\n",
    ")\n",
    "\n",
    "# Print out bucket names\n",
    "for bucket in s3.buckets.all():\n",
    "    print(bucket.name)\n",
    "\n",
    "\n",
    "def download_raster_from_s3(bucket_name, key, local_filename):\n",
    "    # Initialize boto3 client\n",
    "    # Download raster file from S3 and save locally\n",
    "    s3.download_file(bucket_name, key, local_filename)\n",
    "\n",
    "def visualize_raster_from_s3(bucket_name, key):\n",
    "    # Download raster data from S3\n",
    "    raster_data = download_raster_from_s3(bucket_name, key)\n",
    "    \n",
    "    # Open raster data using rasterio\n",
    "    with MemoryFile(raster_data) as memfile:\n",
    "        with memfile.open() as dataset:\n",
    "            # Read raster data\n",
    "            raster_data = dataset.read()\n",
    "            # Visualize raster\n",
    "            plt.imshow(raster_data[0], cmap='gray')\n",
    "            plt.colorbar()\n",
    "            plt.title(\"Raster Visualization\")\n",
    "            plt.show()\n",
    "\n",
    "BUCKET_NAME = 'xx'\n",
    "RASTER_KEY = 'x.tif'  # Inserir a chave do raster aqui\n",
    "\n",
    "# Initialize boto3 client with credentials\n",
    "s3 = boto3.client('s3', aws_access_key_id=AWS_ACCESS_KEY_ID, aws_secret_access_key=AWS_SECRET_ACCESS_KEY)\n",
    "\n",
    "# Download raster file from S3 bucket\n",
    "download_raster_from_s3(BUCKET_NAME, RASTER_KEY, LOCAL_FILENAME)\n",
    "\n",
    "# Visualize raster\n",
    "visualize_raster(LOCAL_FILENAME)"
   ]
  }
 ],
 "metadata": {
  "kernelspec": {
   "display_name": "Geopandas",
   "language": "python",
   "name": "geopandas"
  },
  "language_info": {
   "codemirror_mode": {
    "name": "ipython",
    "version": 3
   },
   "file_extension": ".py",
   "mimetype": "text/x-python",
   "name": "python",
   "nbconvert_exporter": "python",
   "pygments_lexer": "ipython3",
   "version": "3.11.6"
  }
 },
 "nbformat": 4,
 "nbformat_minor": 5
}
